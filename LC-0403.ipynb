{
 "cells": [
  {
   "cell_type": "code",
   "execution_count": 15,
   "metadata": {},
   "outputs": [
    {
     "data": {
      "text/plain": [
       "'aaaa'"
      ]
     },
     "execution_count": 15,
     "metadata": {},
     "output_type": "execute_result"
    }
   ],
   "source": [
    "##字符串\n",
    "#5\n",
    "class Solution:\n",
    "    def longestPalindrome(self, s: str) -> str:\n",
    "        n = len(s)\n",
    "        dp = [[False]*n for _ in range(n)]\n",
    "        max_len = 1\n",
    "        start = 0\n",
    "        \n",
    "        for i in range(n):\n",
    "            dp[i][i] = True\n",
    "\n",
    "        for j in range(1,n):\n",
    "            for i in range(j):\n",
    "                if s[i]==s[j]:\n",
    "                    if j-i<=2:\n",
    "                        dp[i][j] = True\n",
    "                    else:\n",
    "                        dp[i][j] = dp[i+1][j-1]\n",
    "                if dp[i][j]:\n",
    "                    if j - i + 1 > max_len:\n",
    "                        max_len = j - i + 1\n",
    "                        start = i\n",
    "                        \n",
    "        return s[start:start+max_len]\n",
    "\n",
    "s = \"aaaa\"\n",
    "Solution().longestPalindrome(s)"
   ]
  },
  {
   "cell_type": "code",
   "execution_count": null,
   "metadata": {},
   "outputs": [],
   "source": [
    "class Solution:#8\n",
    "    def myAtoi(self, s: str) -> int:\n",
    "        "
   ]
  },
  {
   "cell_type": "code",
   "execution_count": 12,
   "metadata": {},
   "outputs": [
    {
     "name": "stdout",
     "output_type": "stream",
     "text": [
      "PAHNAPLSIIGYIR\n"
     ]
    }
   ],
   "source": [
    "class Solution:#6\n",
    "    def convert(self, s: str, numRows: int) -> str:\n",
    "        data = [''] * numRows\n",
    "        if numRows >= len(s) or numRows == 1:\n",
    "            return s\n",
    "        current_row = 0\n",
    "        direction = -1\n",
    "        \n",
    "        for i in range(len(s)):\n",
    "            data[current_row] += s[i]\n",
    "            current_row\n",
    "            if current_row ==0 or current_row == numRows - 1:\n",
    "                direction *= -1\n",
    "            \n",
    "            current_row += direction\n",
    "            \n",
    "        return ''.join(data)\n",
    "\n",
    "s = \"PAYPALISHIRING\"\n",
    "Solution().convert()\n",
    "res = Solution().convert(s, 3)\n",
    "print(res)"
   ]
  },
  {
   "cell_type": "code",
   "execution_count": null,
   "metadata": {},
   "outputs": [],
   "source": [
    "class Solution:#13\n",
    "    def romanToInt(self, s: str) -> int:"
   ]
  },
  {
   "cell_type": "code",
   "execution_count": null,
   "metadata": {},
   "outputs": [],
   "source": [
    "class Solution:#14\n",
    "    def longestCommonPrefix(self, strs: List[str]) -> str:"
   ]
  },
  {
   "cell_type": "code",
   "execution_count": 30,
   "metadata": {},
   "outputs": [
    {
     "name": "stdout",
     "output_type": "stream",
     "text": [
      "\n",
      "[]\n"
     ]
    }
   ],
   "source": [
    "from typing import List\n",
    "class Solution:#17\n",
    "    def letterCombinations(self, digits: str) -> List[str]:\n",
    "        n = len(digits)\n",
    "        print(digits)\n",
    "        combination = ['']\n",
    "        digit_dict = {'2':['abc'],\n",
    "                      '3':['def'],\n",
    "                      '4':['ghi'],\n",
    "                      '5':['jkl'],\n",
    "                      '6':['mno'],\n",
    "                      '7':['pqrs'],\n",
    "                      '8':['tuv'],\n",
    "                      '9':['wxyz']}\n",
    "        if n==0:\n",
    "            return []\n",
    "        for i in digits:\n",
    "            # print(i)\n",
    "            # for a in combination:\n",
    "            #     print(a)\n",
    "            # for b in digit_dict[i][0]:\n",
    "            #     print(b)\n",
    "            combination = [a+b for a in combination for b in digit_dict[i][0]]\n",
    "        \n",
    "        return combination\n",
    "\n",
    "s = ''\n",
    "res = Solution().letterCombinations(s)\n",
    "print(res)"
   ]
  },
  {
   "cell_type": "code",
   "execution_count": 17,
   "metadata": {},
   "outputs": [
    {
     "data": {
      "text/plain": [
       "'b'"
      ]
     },
     "execution_count": 17,
     "metadata": {},
     "output_type": "execute_result"
    }
   ],
   "source": [
    "''+'b'"
   ]
  }
 ],
 "metadata": {
  "kernelspec": {
   "display_name": "nmf",
   "language": "python",
   "name": "python3"
  },
  "language_info": {
   "codemirror_mode": {
    "name": "ipython",
    "version": 3
   },
   "file_extension": ".py",
   "mimetype": "text/x-python",
   "name": "python",
   "nbconvert_exporter": "python",
   "pygments_lexer": "ipython3",
   "version": "3.7.16"
  },
  "orig_nbformat": 4,
  "vscode": {
   "interpreter": {
    "hash": "fcb7375a799163c9bffdd36681bfbf8b83260dbb180051ebf74032774443719e"
   }
  }
 },
 "nbformat": 4,
 "nbformat_minor": 2
}
