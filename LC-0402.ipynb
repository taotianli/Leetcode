{
 "cells": [
  {
   "cell_type": "code",
   "execution_count": 10,
   "metadata": {},
   "outputs": [
    {
     "name": "stdout",
     "output_type": "stream",
     "text": [
      "[102, 120, 130, 132, 210, 230, 302, 310, 312, 320]\n"
     ]
    }
   ],
   "source": [
    "def findEvenNumbers(digits):#25\n",
    "    subset = []\n",
    "    even_numbers = []\n",
    "    dic = {k:0 for k in range(10)}\n",
    "    for i in digits:\n",
    "        dic[i] += 1\n",
    "        if i not in subset: subset.append(i)\n",
    "    copied_dict = dic.copy()\n",
    "    for hundred in subset:\n",
    "        for ten in subset:\n",
    "            for unit in subset:\n",
    "                copied_dict[hundred] -= 1\n",
    "                copied_dict[ten] -= 1\n",
    "                copied_dict[unit] -= 1\n",
    "                if hundred != 0 and unit%2==0 and copied_dict[hundred]>=0 and copied_dict[ten]>=0 and copied_dict[unit]>=0:\n",
    "                    even_numbers.append(100*hundred+10*ten+unit)\n",
    "                copied_dict = dic.copy()\n",
    "    return sorted(even_numbers)\n",
    "\n",
    "res = findEvenNumbers([2,1,3,0])\n",
    "print(res)"
   ]
  },
  {
   "cell_type": "code",
   "execution_count": 21,
   "metadata": {},
   "outputs": [
    {
     "data": {
      "text/plain": [
       "3"
      ]
     },
     "execution_count": 21,
     "metadata": {},
     "output_type": "execute_result"
    }
   ],
   "source": [
    "import numpy as np\n",
    "def lengthOfLongestSubstring(s: str) -> int:\n",
    "    hash_set = set()\n",
    "    left = right =0\n",
    "    # hash_set.add(s[0])\n",
    "    max_res = 0\n",
    "    while right < len(s): #这个地方不是for循环，而是while\n",
    "        # print(right)\n",
    "        if s[right] not in hash_set:\n",
    "            hash_set.add(s[right])\n",
    "            right += 1\n",
    "            max_res = max(max_res, right-left)\n",
    "        else:\n",
    "            hash_set.remove(s[left])\n",
    "            left += 1\n",
    "    return max_res\n",
    "lengthOfLongestSubstring(\"abcabcbb\")"
   ]
  },
  {
   "cell_type": "code",
   "execution_count": 35,
   "metadata": {},
   "outputs": [
    {
     "name": "stdout",
     "output_type": "stream",
     "text": [
      "10 01\n"
     ]
    },
    {
     "data": {
      "text/plain": [
       "True"
      ]
     },
     "execution_count": 35,
     "metadata": {},
     "output_type": "execute_result"
    }
   ],
   "source": [
    "def isPalindrome(x: int) -> bool:#3\n",
    "    if x < 0: return False\n",
    "    reversed_num = 0\n",
    "    original_num = x\n",
    "    while x>0:\n",
    "        reversed_num = reversed_num*10 + x%10\n",
    "        # print(reversed_num)\n",
    "        x//=10\n",
    "    if reversed_num == original_num: return True\n",
    "    else: return False\n",
    "\n",
    "def isPalindrome(x: int) -> bool:\n",
    "    s = str(x)\n",
    "    # print(s, s[::-1])\n",
    "    if s == s[::-1]: return True\n",
    "    else: return False\n",
    "isPalindrome(10)"
   ]
  }
 ],
 "metadata": {
  "kernelspec": {
   "display_name": "GIN",
   "language": "python",
   "name": "python3"
  },
  "language_info": {
   "codemirror_mode": {
    "name": "ipython",
    "version": 3
   },
   "file_extension": ".py",
   "mimetype": "text/x-python",
   "name": "python",
   "nbconvert_exporter": "python",
   "pygments_lexer": "ipython3",
   "version": "3.7.10"
  },
  "orig_nbformat": 4,
  "vscode": {
   "interpreter": {
    "hash": "d11f6fcce476dbbc9cfb45f8036ad7ada833415d29ddf52a0502ec0487250791"
   }
  }
 },
 "nbformat": 4,
 "nbformat_minor": 2
}
